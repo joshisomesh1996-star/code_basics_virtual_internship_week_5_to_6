{
 "cells": [
  {
   "cell_type": "markdown",
   "id": "8d55f201",
   "metadata": {},
   "source": [
    "<div align=\"center\" style=\"background-color:#f9f7d9;\n",
    "                           padding:10px 20px;\n",
    "                           border-radius:10px;\n",
    "                           border:1px solid #f0e68c;\">\n",
    "<h2>🌾 Harvest Classifier Project</h2>\n",
    "<h4>Hyperparameter Tuning Results</h4>\n",
    "</div>\n"
   ]
  },
  {
   "cell_type": "code",
   "execution_count": 1,
   "id": "f75ad037",
   "metadata": {},
   "outputs": [],
   "source": [
    "import os\n",
    "from torchvision import datasets, transforms\n",
    "from torch.utils.data import DataLoader\n",
    "import torch\n",
    "import torch.nn as nn\n",
    "import torch.optim as optim\n",
    "import torch.nn.functional as F\n",
    "import time\n",
    "import torchvision.models as models\n",
    "from matplotlib import pyplot as plt\n",
    "import optuna"
   ]
  },
  {
   "cell_type": "code",
   "execution_count": 2,
   "id": "7571686b",
   "metadata": {},
   "outputs": [
    {
     "data": {
      "text/plain": [
       "device(type='cpu')"
      ]
     },
     "execution_count": 2,
     "metadata": {},
     "output_type": "execute_result"
    }
   ],
   "source": [
    "device = torch.device(\"cuda\" if torch.cuda.is_available() else \"cpu\")\n",
    "device"
   ]
  },
  {
   "cell_type": "markdown",
   "id": "11808ce3",
   "metadata": {},
   "source": [
    "<div align=\"center\" style=\"background-color:#fff3cd; padding:8px 15px; border-radius:8px; border:1px solid #ffeeba;\">\n",
    "<h3>📂 Load Data</h3>\n",
    "</div>\n"
   ]
  },
  {
   "cell_type": "code",
   "execution_count": 3,
   "id": "f2fc627f",
   "metadata": {},
   "outputs": [],
   "source": [
    "image_transforms = transforms.Compose([\n",
    "    transforms.RandomHorizontalFlip(),\n",
    "    transforms.Resize((224, 224)),\n",
    "    transforms.RandomRotation(15),\n",
    "    transforms.ColorJitter(brightness=0.2, contrast=0.2, saturation=0.2, hue=0.1),\n",
    "    transforms.ToTensor(),\n",
    "    transforms.Normalize(mean=[0.485, 0.456, 0.406], std=[0.229, 0.224, 0.225])\n",
    "])"
   ]
  },
  {
   "cell_type": "code",
   "execution_count": 4,
   "id": "a2d60466",
   "metadata": {},
   "outputs": [],
   "source": [
    "dataset_path = \"./FreshHarvest_Dataset\"\n",
    "dataset = datasets.ImageFolder(dataset_path, transform=image_transforms)"
   ]
  },
  {
   "cell_type": "code",
   "execution_count": 5,
   "id": "903eea83",
   "metadata": {},
   "outputs": [
    {
     "data": {
      "text/plain": [
       "16000"
      ]
     },
     "execution_count": 5,
     "metadata": {},
     "output_type": "execute_result"
    }
   ],
   "source": [
    "len(dataset)"
   ]
  },
  {
   "cell_type": "code",
   "execution_count": 6,
   "id": "3336226d",
   "metadata": {},
   "outputs": [
    {
     "data": {
      "text/plain": [
       "['F_Banana',\n",
       " 'F_Lemon',\n",
       " 'F_Lulo',\n",
       " 'F_Mango',\n",
       " 'F_Orange',\n",
       " 'F_Strawberry',\n",
       " 'F_Tamarillo',\n",
       " 'F_Tomato',\n",
       " 'S_Banana',\n",
       " 'S_Lemon',\n",
       " 'S_Lulo',\n",
       " 'S_Mango',\n",
       " 'S_Orange',\n",
       " 'S_Strawberry',\n",
       " 'S_Tamarillo',\n",
       " 'S_Tomato']"
      ]
     },
     "execution_count": 6,
     "metadata": {},
     "output_type": "execute_result"
    }
   ],
   "source": [
    "class_names = dataset.classes\n",
    "class_names "
   ]
  },
  {
   "cell_type": "code",
   "execution_count": 7,
   "id": "0c00e7bb",
   "metadata": {},
   "outputs": [
    {
     "data": {
      "text/plain": [
       "16"
      ]
     },
     "execution_count": 7,
     "metadata": {},
     "output_type": "execute_result"
    }
   ],
   "source": [
    "num_classes = len(dataset.classes)\n",
    "num_classes"
   ]
  },
  {
   "cell_type": "code",
   "execution_count": 8,
   "id": "ea530b4f",
   "metadata": {},
   "outputs": [
    {
     "data": {
      "text/plain": [
       "(12000, 4000)"
      ]
     },
     "execution_count": 8,
     "metadata": {},
     "output_type": "execute_result"
    }
   ],
   "source": [
    "train_size = int(0.75*len(dataset))\n",
    "val_size = len(dataset) - train_size\n",
    "\n",
    "train_size, val_size"
   ]
  },
  {
   "cell_type": "code",
   "execution_count": 9,
   "id": "69e51a03",
   "metadata": {},
   "outputs": [],
   "source": [
    "from torch.utils.data import random_split\n",
    "\n",
    "train_dataset, val_dataset = random_split(dataset, [train_size, val_size])"
   ]
  },
  {
   "cell_type": "code",
   "execution_count": 10,
   "id": "da1d158d",
   "metadata": {},
   "outputs": [],
   "source": [
    "train_loader = DataLoader(train_dataset, batch_size=32, shuffle=True)\n",
    "val_loader = DataLoader(val_dataset, batch_size=32, shuffle=True)"
   ]
  },
  {
   "cell_type": "markdown",
   "id": "e134da00",
   "metadata": {},
   "source": [
    "<div align=\"center\" style=\"background-color:#fff3cd; padding:8px 15px; border-radius:8px; border:1px solid #ffeeba;\">\n",
    "<h3>🧠 Model Training & Hyperparameter Tuning Using Optuna</h3>\n",
    "</div>"
   ]
  },
  {
   "cell_type": "code",
   "execution_count": 11,
   "id": "8b650296",
   "metadata": {},
   "outputs": [],
   "source": [
    "# Load the pre-trained ResNet model\n",
    "class HarvestClassifierResNet(nn.Module):\n",
    "    def __init__(self, num_classes, dropout_rate=0.5):\n",
    "        super().__init__()\n",
    "        self.model = models.resnet50(weights='DEFAULT')\n",
    "        # Freeze all layers except the final fully connected layer\n",
    "        for param in self.model.parameters():\n",
    "            param.requires_grad = False\n",
    "            \n",
    "        # Unfreeze layer4 and fc layers\n",
    "        for param in self.model.layer4.parameters():\n",
    "            param.requires_grad = True            \n",
    "            \n",
    "        # Replace the final fully connected layer\n",
    "        self.model.fc = nn.Sequential(\n",
    "            nn.Dropout(dropout_rate),\n",
    "            nn.Linear(self.model.fc.in_features, num_classes)\n",
    "        )\n",
    "\n",
    "    def forward(self, x):\n",
    "        x = self.model(x)\n",
    "        return x"
   ]
  },
  {
   "cell_type": "code",
   "execution_count": 14,
   "id": "9071b39a",
   "metadata": {},
   "outputs": [],
   "source": [
    "# Define the objective function for Optuna\n",
    "def objective(trial):\n",
    "    # Suggest values for the hyperparameters\n",
    "    lr = trial.suggest_float('lr', 1e-5, 1e-2, log=True)\n",
    "    dropout_rate = trial.suggest_float('dropout_rate', 0.2, 0.7)\n",
    "    \n",
    "    # Load the model\n",
    "    model = HarvestClassifierResNet(num_classes=num_classes, dropout_rate=dropout_rate).to(device)\n",
    "    \n",
    "    # Define the loss function and optimizer\n",
    "    criterion = nn.CrossEntropyLoss()\n",
    "    optimizer = optim.Adam(filter(lambda p: p.requires_grad, model.parameters()), lr=lr)\n",
    "    \n",
    "    # Training loop (using fewer epochs for faster hyperparameter tuning)\n",
    "    epochs = 3\n",
    "    start = time.time()\n",
    "    for epoch in range(epochs):\n",
    "        model.train()\n",
    "        running_loss = 0.0\n",
    "        for batch_num, (images, labels) in enumerate(train_loader):\n",
    "            images, labels = images.to(device), labels.to(device)\n",
    "\n",
    "            optimizer.zero_grad()\n",
    "            outputs = model(images)\n",
    "            loss = criterion(outputs, labels)\n",
    "            loss.backward()\n",
    "            optimizer.step()\n",
    "            running_loss += loss.item() * images.size(0)\n",
    "\n",
    "        epoch_loss = running_loss / len(train_loader.dataset)\n",
    "        \n",
    "        # Validation loop\n",
    "        model.eval()\n",
    "        correct = 0\n",
    "        total = 0\n",
    "        with torch.no_grad():\n",
    "            for images, labels in val_loader:\n",
    "                images, labels = images.to(device), labels.to(device)\n",
    "                outputs = model(images)\n",
    "                _, predicted = torch.max(outputs.data, 1)\n",
    "                total += labels.size(0)\n",
    "                correct += (predicted == labels).sum().item()\n",
    "\n",
    "        accuracy = 100 * correct / total\n",
    "        \n",
    "        # Report intermediate result to Optuna\n",
    "        trial.report(accuracy, epoch)\n",
    "        \n",
    "        # Handle pruning (if applicable)\n",
    "        if trial.should_prune():\n",
    "            raise optuna.exceptions.TrialPruned()\n",
    "\n",
    "    end = time.time()\n",
    "    print(f\"Execution time: {end - start} seconds\")\n",
    "    \n",
    "    return accuracy"
   ]
  },
  {
   "cell_type": "code",
   "execution_count": 15,
   "id": "35b09dbb",
   "metadata": {},
   "outputs": [
    {
     "name": "stderr",
     "output_type": "stream",
     "text": [
      "[I 2025-10-21 16:09:23,499] A new study created in memory with name: no-name-e94198b4-4c74-4d81-a0d7-501b7fa84e96\n",
      "[I 2025-10-21 17:30:28,441] Trial 0 finished with value: 99.6 and parameters: {'lr': 7.387264434645023e-05, 'dropout_rate': 0.4391107410937022}. Best is trial 0 with value: 99.6.\n"
     ]
    },
    {
     "name": "stdout",
     "output_type": "stream",
     "text": [
      "Execution time: 4864.277827739716 seconds\n"
     ]
    },
    {
     "name": "stderr",
     "output_type": "stream",
     "text": [
      "[I 2025-10-21 18:53:42,272] Trial 1 finished with value: 99.125 and parameters: {'lr': 1.184549673826961e-05, 'dropout_rate': 0.605581493239805}. Best is trial 0 with value: 99.6.\n"
     ]
    },
    {
     "name": "stdout",
     "output_type": "stream",
     "text": [
      "Execution time: 4993.286517620087 seconds\n"
     ]
    },
    {
     "name": "stderr",
     "output_type": "stream",
     "text": [
      "[I 2025-10-21 20:04:45,689] Trial 2 finished with value: 99.85 and parameters: {'lr': 0.0005080289521971769, 'dropout_rate': 0.31056388232009735}. Best is trial 2 with value: 99.85.\n"
     ]
    },
    {
     "name": "stdout",
     "output_type": "stream",
     "text": [
      "Execution time: 4262.826082468033 seconds\n"
     ]
    },
    {
     "name": "stderr",
     "output_type": "stream",
     "text": [
      "[I 2025-10-21 20:58:54,540] Trial 3 finished with value: 99.575 and parameters: {'lr': 1.5977363872336738e-05, 'dropout_rate': 0.5374008314566319}. Best is trial 2 with value: 99.85.\n"
     ]
    },
    {
     "name": "stdout",
     "output_type": "stream",
     "text": [
      "Execution time: 3248.5497648715973 seconds\n"
     ]
    },
    {
     "name": "stderr",
     "output_type": "stream",
     "text": [
      "[I 2025-10-21 21:52:56,290] Trial 4 finished with value: 99.9 and parameters: {'lr': 0.0001073294451814306, 'dropout_rate': 0.6033590800832881}. Best is trial 4 with value: 99.9.\n"
     ]
    },
    {
     "name": "stdout",
     "output_type": "stream",
     "text": [
      "Execution time: 3241.4819300174713 seconds\n"
     ]
    },
    {
     "name": "stderr",
     "output_type": "stream",
     "text": [
      "[I 2025-10-21 22:46:38,581] Trial 5 finished with value: 99.775 and parameters: {'lr': 0.0013346871235203615, 'dropout_rate': 0.34384163090417064}. Best is trial 4 with value: 99.9.\n"
     ]
    },
    {
     "name": "stdout",
     "output_type": "stream",
     "text": [
      "Execution time: 3221.7860808372498 seconds\n"
     ]
    },
    {
     "name": "stderr",
     "output_type": "stream",
     "text": [
      "[I 2025-10-21 23:47:15,277] Trial 6 finished with value: 99.775 and parameters: {'lr': 0.00011202035135942334, 'dropout_rate': 0.3631964198154356}. Best is trial 4 with value: 99.9.\n"
     ]
    },
    {
     "name": "stdout",
     "output_type": "stream",
     "text": [
      "Execution time: 3636.428502559662 seconds\n"
     ]
    },
    {
     "name": "stderr",
     "output_type": "stream",
     "text": [
      "[I 2025-10-22 00:05:45,819] Trial 7 pruned. \n",
      "[I 2025-10-22 00:24:10,744] Trial 8 pruned. \n",
      "[I 2025-10-22 00:42:19,907] Trial 9 pruned. \n",
      "[I 2025-10-22 01:36:41,373] Trial 10 finished with value: 99.8 and parameters: {'lr': 7.852751617018129e-05, 'dropout_rate': 0.21835947777966028}. Best is trial 4 with value: 99.9.\n"
     ]
    },
    {
     "name": "stdout",
     "output_type": "stream",
     "text": [
      "Execution time: 3261.1672275066376 seconds\n"
     ]
    },
    {
     "name": "stderr",
     "output_type": "stream",
     "text": [
      "[I 2025-10-22 01:54:51,447] Trial 11 pruned. \n",
      "[I 2025-10-22 02:12:58,079] Trial 12 pruned. \n",
      "[I 2025-10-22 02:31:01,760] Trial 13 pruned. \n",
      "[I 2025-10-22 02:49:07,445] Trial 14 pruned. \n",
      "[I 2025-10-22 03:07:11,314] Trial 15 pruned. \n",
      "[I 2025-10-22 03:25:13,037] Trial 16 pruned. \n",
      "[I 2025-10-22 03:43:15,089] Trial 17 pruned. \n",
      "[I 2025-10-22 04:01:21,600] Trial 18 pruned. \n",
      "[I 2025-10-22 04:19:27,189] Trial 19 pruned. \n"
     ]
    }
   ],
   "source": [
    "# Create the study and optimize\n",
    "study = optuna.create_study(direction='maximize')\n",
    "study.optimize(objective, n_trials=20)"
   ]
  },
  {
   "cell_type": "code",
   "execution_count": 16,
   "id": "7bd2de12",
   "metadata": {
    "scrolled": true
   },
   "outputs": [
    {
     "data": {
      "text/plain": [
       "{'lr': 0.0001073294451814306, 'dropout_rate': 0.6033590800832881}"
      ]
     },
     "execution_count": 16,
     "metadata": {},
     "output_type": "execute_result"
    }
   ],
   "source": [
    "study.best_params"
   ]
  },
  {
   "cell_type": "markdown",
   "id": "37e7d2c4",
   "metadata": {},
   "source": [
    "<div align=\"center\" style=\"background-color:#f0f8ff; padding:15px 25px; border-radius:12px; border:1px solid #add8e6;\">\n",
    "\n",
    "<h2 style=\"color:#0077b6;\">🔍 Best Hyperparameters Found</h2>\n",
    "\n",
    "<p style=\"font-size:16px; color:#333;\">\n",
    "After performing extensive <b>hyperparameter tuning</b>, the following configuration achieved the best performance:\n",
    "</p>\n",
    "\n",
    "<table style=\"width:60%; margin:auto; border-collapse:collapse;\">\n",
    "  <tr style=\"background-color:#0077b6; color:white;\">\n",
    "    <th style=\"padding:10px; border:1px solid #ccc;\">Parameter</th>\n",
    "    <th style=\"padding:10px; border:1px solid #ccc;\">Best Value</th>\n",
    "  </tr>\n",
    "  <tr style=\"background-color:#e8f4fa;\">\n",
    "    <td style=\"padding:8px; border:1px solid #ccc;\"><b>Learning Rate (<code>lr</code>)</b></td>\n",
    "    <td style=\"padding:8px; border:1px solid #ccc;\"><code>0.0001073294451814306</code></td>\n",
    "  </tr>\n",
    "  <tr style=\"background-color:#f7fbfe;\">\n",
    "    <td style=\"padding:8px; border:1px solid #ccc;\"><b>Dropout Rate (<code>dropout_rate</code>)</b></td>\n",
    "    <td style=\"padding:8px; border:1px solid #ccc;\"><code>0.6033590800832881</code></td>\n",
    "  </tr>\n",
    "</table>\n",
    "\n",
    "<p style=\"font-size:15px; color:#444; margin-top:10px;\">\n",
    "✅ These hyperparameters provided the most <b>optimal training stability</b> and <b>validation performance</b> for the Harvest Classifier model.\n",
    "</p>\n",
    "\n",
    "</div>\n"
   ]
  },
  {
   "cell_type": "code",
   "execution_count": null,
   "id": "ccc7942f-8452-402b-8311-9cc00a1e8822",
   "metadata": {},
   "outputs": [],
   "source": []
  }
 ],
 "metadata": {
  "kernelspec": {
   "display_name": "Python 3 (ipykernel)",
   "language": "python",
   "name": "python3"
  },
  "language_info": {
   "codemirror_mode": {
    "name": "ipython",
    "version": 3
   },
   "file_extension": ".py",
   "mimetype": "text/x-python",
   "name": "python",
   "nbconvert_exporter": "python",
   "pygments_lexer": "ipython3",
   "version": "3.10.11"
  }
 },
 "nbformat": 4,
 "nbformat_minor": 5
}
